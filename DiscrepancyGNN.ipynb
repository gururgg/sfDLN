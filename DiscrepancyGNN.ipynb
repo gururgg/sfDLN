{
 "cells": [
  {
   "cell_type": "code",
   "execution_count": 1,
   "metadata": {},
   "outputs": [],
   "source": [
    "import torch\n",
    "from torch_geometric.data import InMemoryDataset\n",
    "import numpy as np\n",
    "from torch_geometric.data import Data\n",
    "import scipy.io\n",
    "\n",
    "def f1_calculation(y,patient_results):\n",
    "    y_pred = np.zeros(len(y))\n",
    "    for i,label in enumerate(patient_results) :\n",
    "        if label == 1 :\n",
    "            y_pred[i]=y[i]\n",
    "        else :\n",
    "            y_pred[i] = 1-y[i]\n",
    "    return f1_score(y,y_pred)\n",
    "\n",
    "class PairData(Data):\n",
    "    def __init__(self, edge_index_s=None, x_s=None, edge_index_t=None, x_t=None, y=None):\n",
    "        super().__init__()\n",
    "        self.edge_index_s = edge_index_s\n",
    "        self.x_s = x_s\n",
    "        self.edge_index_t = edge_index_t\n",
    "        self.x_t = x_t\n",
    "        self.y = y\n",
    "        \n",
    "    def __inc__(self, key, value, *args, **kwargs):\n",
    "        if key == 'edge_index_s':\n",
    "            return self.x_s.size(0)\n",
    "        if key == 'edge_index_t':\n",
    "            return self.x_t.size(0)\n",
    "        else:\n",
    "            return super().__inc__(key, value, *args, **kwargs)\n",
    "        \n",
    "\n",
    "class YooChooseBinaryDataset(InMemoryDataset):\n",
    "    def __init__(self, root, transform=None, pre_transform=None):\n",
    "        super(YooChooseBinaryDataset, self).__init__(root, transform, pre_transform)\n",
    "        self.data, self.slices = torch.load(self.processed_paths[0])\n",
    "\n",
    "    @property\n",
    "    def raw_file_names(self):\n",
    "        return []\n",
    "    @property\n",
    "    def processed_file_names(self):\n",
    "        return ['C:\\\\Users\\\\User\\\\yoochoose-data\\\\discrepancy-capa-snet-nw-capa-averaging-smooth-norm1_3-adsci.dataset']\n",
    "\n",
    "    def download(self):\n",
    "        pass\n",
    "    \n",
    "    def process(self):\n",
    "        pass\n",
    "dataset = YooChooseBinaryDataset('C:\\\\Users\\\\User\\\\yoochoose-data\\\\discrepancy-capa-snet-nw-capa-averaging-smooth-norm1_3-adsci.dataset')"
   ]
  },
  {
   "cell_type": "code",
   "execution_count": 2,
   "metadata": {},
   "outputs": [],
   "source": [
    "y = []\n",
    "for i in range(len(dataset)):\n",
    "    y.append(dataset[i].y)"
   ]
  },
  {
   "cell_type": "code",
   "execution_count": 5,
   "metadata": {},
   "outputs": [],
   "source": [
    "from torch.nn import Sequential, Linear, ReLU, Parameter\n",
    "import torch.nn.functional as F\n",
    "from torch.nn.init import uniform_,ones_,xavier_normal_\n",
    "from torch_geometric.data import DataLoader\n",
    "from torch.nn import BatchNorm1d,Dropout\n",
    "from timeit import default_timer as timer\n",
    "from torch_geometric.nn import  global_mean_pool, TopKPooling,GlobalAttention,GINConv,GATConv,ChebConv,GCNConv,ARMAConv\n",
    "from torch_geometric.utils import to_dense_batch\n",
    "from sklearn.neighbors import KNeighborsClassifier\n",
    "from sklearn.svm import LinearSVC\n",
    "from sklearn.metrics import f1_score\n",
    "import warnings\n",
    "from torch_geometric.utils import softmax\n",
    "from typing import Any\n",
    "\n",
    "warnings.filterwarnings(\"ignore\")\n",
    "\n",
    "def reset(value: Any):\n",
    "    if hasattr(value, 'reset_parameters'):\n",
    "        value.reset_parameters()\n",
    "    else:\n",
    "        for child in value.children() if hasattr(value, 'children') else []:\n",
    "            reset(child)\n",
    "\n",
    "class MeanAttention(torch.nn.Module):\n",
    "    def __init__(self, gate_nn):\n",
    "        super().__init__()\n",
    "        \n",
    "        self.gate_nn = gate_nn\n",
    "        \n",
    "        self.reset_parameters()\n",
    "        \n",
    "    def reset_parameters(self):\n",
    "        reset(self.gate_nn)\n",
    "        \n",
    "    def forward(self, x):\n",
    "        x_m = torch.unsqueeze(self.gate_nn(torch.mean(x,1)),1)\n",
    "        attn = torch.softmax(torch.sum(x*x_m,2),1)\n",
    "        return torch.sum(torch.unsqueeze(attn,2)*x,1)\n",
    "\n",
    "\n",
    "class Net(torch.nn.Module):\n",
    "    def __init__(self):\n",
    "        super(Net, self).__init__()\n",
    "        num_features = 148\n",
    "        #num_features = 23\n",
    "        dim = 32\n",
    "        #nn1 = Sequential(Linear(num_features, dim), ReLU(), Linear(dim, dim))\n",
    "        #self.conv1 = GINConv(nn1)\n",
    "        #self.conv1 = GCNConv(num_features,dim)\n",
    "        #self.conv2 = GCNConv(dim,dim)\n",
    "        self.conv1 = ChebConv(num_features,dim,2)\n",
    "        self.conv2 = ChebConv(dim,dim,2)\n",
    "        #self.conv2 = GATConv(dim,dim)\n",
    "        #self.conv2 = GATConv(dim,dim)\n",
    "        #nn2 = Sequential(Linear(dim, dim), ReLU(), Linear(dim, dim))\n",
    "        #self.conv2 = GINConv(nn2)\n",
    "        #self.norm = PairNorm(1)\n",
    "        #nn3 =  Sequential(Linear(dim, 1))\n",
    "        #self.pool = TopKPooling(32,0.5)\n",
    "        #self.pool = GlobalAttention(nn3)\n",
    "        #nn1 = Sequential(Linear(32,32))\n",
    "        #self.pool = MeanAttention(nn1)\n",
    "        \n",
    "    def forward_(self, x, edge_index):\n",
    "        #x = F.relu(self.conv1(x, edge_index))\n",
    "        #x = F.relu(self.conv2(x, edge_index))\n",
    "        x = F.relu(self.conv1(x, edge_index))\n",
    "        #x = self.norm(x,batch)\n",
    "        x = F.relu(self.conv2(x, edge_index))\n",
    "        #x = self.conv2(x, edge_index)\n",
    "        #return torch.cat((x1,x2),dim=-1)\n",
    "        return x\n",
    "\n",
    "           \n",
    "    def forward(self, x_s, edge_index_s, x_t, edge_index_t, x_s_batch, x_t_batch):\n",
    "        x_s = self.forward_(x_s,edge_index_s)\n",
    "        x_t = self.forward_(x_t,edge_index_t)\n",
    "        x_s = global_mean_pool(x_s, x_s_batch)\n",
    "        x_t = global_mean_pool(x_t, x_t_batch)\n",
    "        #x_s = F.normalize(x_s)\n",
    "        #x_t = F.normalize(x_t)\n",
    "        scale_factor = 32**-0.5\n",
    "        #scale_factor = 1\n",
    "        ##Mean Attention\n",
    "        #x_s,_ = to_dense_batch(x_s, x_s_batch)\n",
    "        #x_t,_ = to_dense_batch(x_t, x_t_batch)\n",
    "        #x_s = self.pool(x_s)\n",
    "        #x_t = self.pool(x_t)\n",
    "        dot = x_s*x_t*scale_factor\n",
    "        #dot = torch.sum(dot,2)\n",
    "        return torch.sum(dot,1)\n",
    "\n",
    "def train(epoch):\n",
    "    model.train()\n",
    "\n",
    "    #if epoch == 51:\n",
    "        #for param_group in optimizer.param_groups:\n",
    "            #param_group['lr'] = 0.5 * param_group['lr']\n",
    "    loss_all = 0\n",
    "    for data in data_loader:\n",
    "        data = data.to(device)\n",
    "        optimizer.zero_grad()\n",
    "        output = model(data.x_s, data.edge_index_s, data.x_t, data.edge_index_t, data.x_s_batch, data.x_t_batch)\n",
    "        var_1 = torch.var(output[torch.where(data.y==1)], unbiased=False)\n",
    "        var_2 = torch.var(output[torch.where(data.y==0)], unbiased=False)\n",
    "        mean_1 = torch.mean(output[torch.where(data.y==1)])\n",
    "        mean_2 = torch.mean(output[torch.where(data.y==0)])\n",
    "        loss = 0.1*var_1 + 0.1*var_2 + F.relu(0.5-(mean_1-mean_2))\n",
    "        #for param in model.parameters():\n",
    "            #loss += torch.sum(torch.abs(param))*1e-5\n",
    "        #loss = 0.1*var_1 + 0.1*var_2 + F.relu(0.3 - torch.abs(mean_2-mean_1))\n",
    "        #loss = 0.3*(torch.max(torch.abs(output[torch.where(data.y==1)]-mean_1)) + torch.max(torch.abs(output[torch.where(data.y==0)]-mean_2))) + F.relu(5-(mean_2-mean_1))\n",
    "        loss.backward()\n",
    "        loss_all += loss.item() * data.num_graphs\n",
    "        optimizer.step()\n",
    "    return loss_all / len(dataset)\n",
    "\n",
    "\n",
    "def test(loader1,loader2):\n",
    "    model.eval()\n",
    "    correct = 0\n",
    "    for data in loader1 :        \n",
    "        data = data.to(device)\n",
    "        output = model(data.x_s, data.edge_index_s, data.x_t, data.edge_index_t, data.x_s_batch, data.x_t_batch)\n",
    "        model_1 = KNeighborsClassifier(n_neighbors=7)\n",
    "        model_1.fit(output.detach().cpu().numpy().reshape(-1, 1),data.y.detach().cpu().numpy())\n",
    "        #model_1 = LinearSVC()\n",
    "        #model_1.fit(output.detach().cpu().numpy().reshape(-1, 1),data.y.detach().cpu().numpy())\n",
    "    for data in loader2 :\n",
    "        data = data.to(device)\n",
    "        output = model(data.x_s, data.edge_index_s, data.x_t, data.edge_index_t, data.x_s_batch, data.x_t_batch)\n",
    "        correct = model_1.score(output.detach().cpu().numpy().reshape(-1, 1),data.y.detach().cpu().numpy())\n",
    "        correct = model_1.score(output.detach().cpu().numpy().reshape(-1, 1),data.y.detach().cpu().numpy())\n",
    "    del model_1\n",
    "    return correct\n",
    "\n",
    "batch_size= 21\n",
    "\n",
    "test_num = 20\n",
    "results = np.zeros([test_num])\n",
    "f1_arr = np.zeros([test_num])\n",
    "patient_results = np.zeros([len(dataset),test_num])\n",
    "\n",
    "#start=timer()\n",
    "for t in range(0,test_num):\n",
    "    \n",
    "    acc = 0\n",
    "    for i in range(0,len(dataset)) :\n",
    "    #for i in range(2,3) :\n",
    "        train_indices = np.delete(np.arange(len(dataset)),i).tolist() \n",
    "        test_indices = [i]\n",
    "        dataset_train =  torch.utils.data.Subset(dataset, train_indices)\n",
    "        dataset_test = torch.utils.data.Subset(dataset, test_indices)\n",
    "\n",
    "        device = torch.device('cuda:0' if torch.cuda.is_available() else 'cpu')\n",
    "        #device = torch.device('cpu')\n",
    "        print(device)\n",
    "        model = Net().to(device)\n",
    "        optimizer = torch.optim.Adam(model.parameters(), lr=0.001, weight_decay=1e-4)\n",
    "\n",
    "\n",
    "        for epoch in range(1, 101):\n",
    "            data_loader = DataLoader(dataset_train, batch_size=batch_size,shuffle=True,follow_batch=['x_s', 'x_t'])\n",
    "            data_loader_test = DataLoader(dataset_test, batch_size=1,follow_batch=['x_s', 'x_t'])\n",
    "            train_loss = train(epoch)\n",
    "            #train_acc,_ = test(data_loader)\n",
    "            #train_acc = train_acc/(len(dataset)-1)\n",
    "            #test_acc,test_loss = test(data_loader_test)\n",
    "            #print('Epoch: {:03d}, Train Loss: {:.7f}, '\n",
    "                  #.format(epoch, train_loss,))\n",
    "        data_all = DataLoader(dataset_train, batch_size=len(dataset)-1 ,shuffle=True,follow_batch=['x_s', 'x_t'])\n",
    "        test_acc = test(data_all,data_loader_test)\n",
    "        patient_results[i,t] = test_acc\n",
    "        f1_arr[t] = f1_calculation(y,patient_results[:,t])\n",
    "        acc = acc + test_acc\n",
    "        #print(acc)\n",
    "        del model\n",
    "    acc = acc/len(dataset) \n",
    "    print(acc)\n",
    "    results[t] = acc\n",
    "#end = timer()\n",
    "#print(end - start)"
   ]
  },
  {
   "cell_type": "code",
   "execution_count": 4,
   "metadata": {},
   "outputs": [
    {
     "name": "stdout",
     "output_type": "stream",
     "text": [
      "7NN Discrepancy Detector, Model:ReLU ChebyGCN(148->32)+ ReLU ChebyGCN(32->32) + MeanPool, K=2, Mean Loss(|AD-SCI|) \n",
      "[0.85714286 0.88095238 0.85714286 0.85714286 0.80952381 0.85714286\n",
      " 0.85714286 0.9047619  0.83333333 0.85714286 0.83333333 0.80952381\n",
      " 0.83333333 0.83333333 0.80952381 0.83333333 0.85714286 0.83333333\n",
      " 0.85714286 0.83333333]\n",
      "Accuracy : 0.8452 ± 0.0232\n",
      "F1 Score : 0.8075 ± 0.0296\n"
     ]
    }
   ],
   "source": [
    "print(\"7NN Discrepancy Detector, Model:ReLU ChebyGCN(148->32)+ ReLU ChebyGCN(32->32) + MeanPool, K=2, Mean Loss(|AD-SCI|) \")\n",
    "print(results)\n",
    "print(f'Accuracy : {np.mean(results):.4f} ± {np.std(results):.4f}')\n",
    "print(f'F1 Score : {np.mean(f1_arr):.4f} ± {np.std(f1_arr):.4f}')"
   ]
  },
  {
   "cell_type": "code",
   "execution_count": 6,
   "metadata": {},
   "outputs": [
    {
     "name": "stdout",
     "output_type": "stream",
     "text": [
      "7NN Discrepancy Detector, Model:ReLU ChebyGCN(148->32)+ ReLU ChebyGCN(32->32) + MeanPool, K=2, Mean Loss(AD-SCI) \n",
      "[0.80952381 0.78571429 0.85714286 0.80952381 0.80952381 0.83333333\n",
      " 0.83333333 0.78571429 0.78571429 0.78571429 0.80952381 0.80952381\n",
      " 0.78571429 0.80952381 0.83333333 0.80952381 0.83333333 0.78571429\n",
      " 0.78571429 0.80952381]\n",
      "Accuracy : 0.8083 ± 0.0206\n",
      "F1 Score : 0.7550 ± 0.0252\n"
     ]
    }
   ],
   "source": [
    "print(\"7NN Discrepancy Detector, Model:ReLU ChebyGCN(148->32)+ ReLU ChebyGCN(32->32) + MeanPool, K=2, Mean Loss(AD-SCI) \")\n",
    "print(results)\n",
    "print(f'Accuracy : {np.mean(results):.4f} ± {np.std(results):.4f}')\n",
    "print(f'F1 Score : {np.mean(f1_arr):.4f} ± {np.std(f1_arr):.4f}')"
   ]
  },
  {
   "cell_type": "code",
   "execution_count": 5,
   "metadata": {},
   "outputs": [
    {
     "name": "stdout",
     "output_type": "stream",
     "text": [
      "7NN Discrepancy Detector, Model:ReLU ChebyGCN(148->32)+ ReLU ChebyGCN(32->32) + MeanPool, K=2\n",
      "[0.9047619  0.88095238 0.88095238 0.85714286 0.88095238 0.9047619\n",
      " 0.9047619  0.88095238 0.9047619  0.88095238 0.9047619  0.88095238\n",
      " 0.88095238 0.85714286 0.9047619  0.88095238 0.85714286 0.9047619\n",
      " 0.9047619  0.85714286]\n",
      "Accuracy : 0.8857 ± 0.0178\n",
      "F1 Score : 0.8579 ± 0.0224\n"
     ]
    }
   ],
   "source": [
    "print(\"7NN Discrepancy Detector, Model:ReLU ChebyGCN(148->32)+ ReLU ChebyGCN(32->32) + MeanPool, K=2\")\n",
    "print(results)\n",
    "print(f'Accuracy : {np.mean(results):.4f} ± {np.std(results):.4f}')\n",
    "print(f'F1 Score : {np.mean(f1_arr):.4f} ± {np.std(f1_arr):.4f}')"
   ]
  },
  {
   "cell_type": "code",
   "execution_count": 4,
   "metadata": {},
   "outputs": [
    {
     "name": "stdout",
     "output_type": "stream",
     "text": [
      "7NN Discrepancy Detector, Model:ReLU ARMAGCN(148->32) + ReLU ARMAGCN(32->32) + MeanPool\n",
      "[0.9047619  0.85714286 0.9047619  0.9047619  0.9047619  0.88095238\n",
      " 0.88095238 0.88095238 0.88095238 0.83333333 0.83333333 0.9047619\n",
      " 0.83333333 0.88095238 0.88095238 0.9047619  0.88095238 0.85714286\n",
      " 0.9047619  0.88095238]\n",
      "Accuracy : 0.8798 ± 0.0244\n",
      "F1 Score : 0.8513 ± 0.0294\n"
     ]
    }
   ],
   "source": [
    "print(\"7NN Discrepancy Detector, Model:ReLU ARMAGCN(148->32) + ReLU ARMAGCN(32->32) + MeanPool\")\n",
    "print(results)\n",
    "print(f'Accuracy : {np.mean(results):.4f} ± {np.std(results):.4f}')\n",
    "print(f'F1 Score : {np.mean(f1_arr):.4f} ± {np.std(f1_arr):.4f}')"
   ]
  },
  {
   "cell_type": "code",
   "execution_count": 10,
   "metadata": {},
   "outputs": [
    {
     "name": "stdout",
     "output_type": "stream",
     "text": [
      "7NN Discrepancy Detector, Model:ReLU ChebyGCN(148->32) + MeanPool, K=2\n",
      "[0.85714286 0.85714286 0.85714286 0.83333333 0.88095238 0.85714286\n",
      " 0.88095238 0.85714286 0.85714286 0.83333333 0.85714286 0.85714286\n",
      " 0.85714286 0.85714286 0.85714286 0.85714286 0.85714286 0.85714286\n",
      " 0.85714286 0.80952381]\n",
      "Accuracy : 0.8548 ± 0.0149\n",
      "F1 Score : 0.8194 ± 0.0189\n"
     ]
    }
   ],
   "source": [
    "print(\"7NN Discrepancy Detector, Model:ReLU ChebyGCN(148->32) + MeanPool, K=2\")\n",
    "print(results)\n",
    "print(f'Accuracy : {np.mean(results):.4f} ± {np.std(results):.4f}')\n",
    "print(f'F1 Score : {np.mean(f1_arr):.4f} ± {np.std(f1_arr):.4f}')"
   ]
  },
  {
   "cell_type": "code",
   "execution_count": 8,
   "metadata": {},
   "outputs": [
    {
     "name": "stdout",
     "output_type": "stream",
     "text": [
      "7NN Discrepancy Detector, Model:ReLU ARMAGCN(148->32) + ReLU ARMAGCN(32->32) + MeanPool\n",
      "[0.85714286 0.9047619  0.88095238 0.88095238 0.9047619  0.83333333\n",
      " 0.83333333 0.88095238 0.88095238 0.88095238 0.83333333 0.85714286\n",
      " 0.85714286 0.88095238 0.88095238 0.88095238 0.88095238 0.9047619\n",
      " 0.85714286 0.85714286]\n",
      "Accuracy : 0.8714 ± 0.0218\n",
      "F1 Score : 0.8406 ± 0.0271\n"
     ]
    }
   ],
   "source": [
    "print(\"7NN Discrepancy Detector, Model:ReLU ARMAGCN(148->32) + ReLU ARMAGCN(32->32) + MeanPool\")\n",
    "print(results)\n",
    "print(f'Accuracy : {np.mean(results):.4f} ± {np.std(results):.4f}')\n",
    "print(f'F1 Score : {np.mean(f1_arr):.4f} ± {np.std(f1_arr):.4f}')"
   ]
  },
  {
   "cell_type": "code",
   "execution_count": 28,
   "metadata": {},
   "outputs": [
    {
     "name": "stdout",
     "output_type": "stream",
     "text": [
      "Rewired AD-SCI, 7NN Discrepancy Detector, Model:ReLU GCN(148->32) + ReLU GCN(32->32) + MeanPool\n",
      "[0.83333333 0.80952381 0.83333333 0.80952381 0.83333333]\n",
      "Accuracy : 0.8238 ± 0.0117\n",
      "F1 Score : 0.7911 ± 0.0109\n"
     ]
    }
   ],
   "source": [
    "print(\"Rewired AD-SCI, 7NN Discrepancy Detector, Model:ReLU GCN(148->32) + ReLU GCN(32->32) + MeanPool\")\n",
    "print(results)\n",
    "print(f'Accuracy : {np.mean(results):.4f} ± {np.std(results):.4f}')\n",
    "print(f'F1 Score : {np.mean(f1_arr):.4f} ± {np.std(f1_arr):.4f}')"
   ]
  },
  {
   "cell_type": "code",
   "execution_count": 22,
   "metadata": {},
   "outputs": [
    {
     "name": "stdout",
     "output_type": "stream",
     "text": [
      "SCI-MCI, 7NN Discrepancy Detector, Model:ReLU GCN(148->32) + ReLU GCN(32->32) + MeanPool\n",
      "[0.7        0.71428571 0.67142857 0.71428571 0.7       ]\n",
      "Accuracy : 0.7000 ± 0.0156\n",
      "F1 Score : 0.7827 ± 0.0093\n"
     ]
    }
   ],
   "source": [
    "print(\"SCI-MCI, 7NN Discrepancy Detector, Model:ReLU GCN(148->32) + ReLU GCN(32->32) + MeanPool\")\n",
    "print(results)\n",
    "print(f'Accuracy : {np.mean(results):.4f} ± {np.std(results):.4f}')\n",
    "print(f'F1 Score : {np.mean(f1_arr):.4f} ± {np.std(f1_arr):.4f}')"
   ]
  },
  {
   "cell_type": "code",
   "execution_count": 6,
   "metadata": {},
   "outputs": [
    {
     "name": "stdout",
     "output_type": "stream",
     "text": [
      " RANDOMİZED SCI-MCI, 7NN Discrepancy Detector, Model:ReLU GCN(148->32) + ReLU GCN(32->32) + MeanPool\n",
      "[0.58571429 0.57142857 0.62857143 0.57142857 0.64285714]\n",
      "Accuracy : 0.6000 ± 0.0300\n",
      "F1 Score : 0.7264 ± 0.0225\n"
     ]
    }
   ],
   "source": [
    "print(\"RANDOMİZED SCI-MCI, 7NN Discrepancy Detector, Model:ReLU GCN(148->32) + ReLU GCN(32->32) + MeanPool\")\n",
    "print(results)\n",
    "print(f'Accuracy : {np.mean(results):.4f} ± {np.std(results):.4f}')\n",
    "print(f'F1 Score : {np.mean(f1_arr):.4f} ± {np.std(f1_arr):.4f}')"
   ]
  },
  {
   "cell_type": "code",
   "execution_count": 6,
   "metadata": {},
   "outputs": [
    {
     "name": "stdout",
     "output_type": "stream",
     "text": [
      " AD-MCI, 7NN Discrepancy Detector, Model:ReLU GCN(148->32) + ReLU GCN(32->32) + MeanPool\n",
      "[0.78125  0.78125  0.765625 0.78125  0.765625]\n",
      "Accuracy : 0.7750 ± 0.0077\n",
      "F1 Score : 0.5131 ± 0.0248\n"
     ]
    }
   ],
   "source": [
    "print(\" AD-MCI, 7NN Discrepancy Detector, Model:ReLU GCN(148->32) + ReLU GCN(32->32) + MeanPool\")\n",
    "print(results)\n",
    "print(f'Accuracy : {np.mean(results):.4f} ± {np.std(results):.4f}')\n",
    "print(f'F1 Score : {np.mean(f1_arr):.4f} ± {np.std(f1_arr):.4f}')"
   ]
  },
  {
   "cell_type": "code",
   "execution_count": 14,
   "metadata": {},
   "outputs": [
    {
     "name": "stdout",
     "output_type": "stream",
     "text": [
      " RANDOMİZED AD-MCI, 7NN Discrepancy Detector, Model:ReLU GCN(148->32) + ReLU GCN(32->32) + MeanPool\n",
      "[0.625    0.640625 0.640625 0.625    0.609375]\n",
      "Accuracy : 0.6281 ± 0.0117\n",
      "F1 Score : 0.1308 ± 0.0272\n"
     ]
    }
   ],
   "source": [
    "print(\" RANDOMİZED AD-MCI, 7NN Discrepancy Detector, Model:ReLU GCN(148->32) + ReLU GCN(32->32) + MeanPool\")\n",
    "print(results)\n",
    "print(f'Accuracy : {np.mean(results):.4f} ± {np.std(results):.4f}')\n",
    "print(f'F1 Score : {np.mean(f1_arr):.4f} ± {np.std(f1_arr):.4f}')"
   ]
  },
  {
   "cell_type": "code",
   "execution_count": 11,
   "metadata": {},
   "outputs": [
    {
     "name": "stdout",
     "output_type": "stream",
     "text": [
      " STRATIFIED LABELS 7NN Discrepancy Detector, Model:ReLU GCN(148->32) + ReLU GCN(32->32) + MeanPool\n",
      "[0.52542373 0.55932203 0.42372881 0.52542373 0.49152542 0.49152542\n",
      " 0.50847458 0.47457627 0.54237288 0.49152542 0.44067797 0.50847458\n",
      " 0.47457627 0.49152542 0.44067797 0.45762712 0.52542373 0.50847458\n",
      " 0.50847458 0.55932203]\n",
      "Accuracy : 0.4975 ± 0.0369\n",
      "F1 Score : 0.4757 ± 0.0447\n"
     ]
    }
   ],
   "source": [
    "print(\" STRATIFIED LABELS 7NN Discrepancy Detector, Model:ReLU GCN(148->32) + ReLU GCN(32->32) + MeanPool\")\n",
    "print(results)\n",
    "print(f'Accuracy : {np.mean(results):.4f} ± {np.std(results):.4f}')\n",
    "print(f'F1 Score : {np.mean(f1_arr):.4f} ± {np.std(f1_arr):.4f}')"
   ]
  },
  {
   "cell_type": "code",
   "execution_count": 8,
   "metadata": {},
   "outputs": [
    {
     "name": "stdout",
     "output_type": "stream",
     "text": [
      " RANDOMIZED LABELS 7NN Discrepancy Detector, Model:ReLU GCN(148->32) + ReLU GCN(32->32) + MeanPool\n",
      "[0.33333333 0.4047619  0.4047619  0.38095238 0.4047619  0.33333333\n",
      " 0.42857143 0.4047619  0.4047619  0.35714286 0.33333333 0.52380952\n",
      " 0.4047619  0.42857143 0.4047619  0.45238095 0.38095238 0.38095238\n",
      " 0.35714286 0.38095238]\n",
      "Accuracy : 0.3952 ± 0.0435\n",
      "F1 Score : 0.1262 ± 0.0637\n"
     ]
    }
   ],
   "source": [
    "print(\" RANDOMIZED LABELS 7NN Discrepancy Detector, Model:ReLU GCN(148->32) + ReLU GCN(32->32) + MeanPool\")\n",
    "print(results)\n",
    "print(f'Accuracy : {np.mean(results):.4f} ± {np.std(results):.4f}')\n",
    "print(f'F1 Score : {np.mean(f1_arr):.4f} ± {np.std(f1_arr):.4f}')"
   ]
  },
  {
   "cell_type": "code",
   "execution_count": 9,
   "metadata": {},
   "outputs": [
    {
     "name": "stdout",
     "output_type": "stream",
     "text": [
      "7NN Discrepancy Detector, Model:ReLU GCN(148->32) + ReLU GCN(32->32) + MeanPool\n",
      "[0.80952381 0.80952381 0.83333333 0.76190476 0.78571429 0.78571429\n",
      " 0.80952381 0.78571429 0.78571429 0.80952381 0.83333333 0.83333333\n",
      " 0.80952381 0.83333333 0.78571429 0.80952381 0.85714286 0.83333333\n",
      " 0.78571429 0.76190476]\n",
      "Accuracy : 0.8060 ± 0.0253\n",
      "F1 Score : 0.7697 ± 0.0279\n"
     ]
    }
   ],
   "source": [
    "print(\"7NN Discrepancy Detector, Model:ReLU GCN(148->32) + ReLU GCN(32->32) + MeanPool\")\n",
    "print(results)\n",
    "print(f'Accuracy : {np.mean(results):.4f} ± {np.std(results):.4f}')\n",
    "print(f'F1 Score : {np.mean(f1_arr):.4f} ± {np.std(f1_arr):.4f}')"
   ]
  },
  {
   "cell_type": "code",
   "execution_count": 5,
   "metadata": {},
   "outputs": [
    {
     "name": "stdout",
     "output_type": "stream",
     "text": [
      "7NN Discrepancy Detector for Smooth1.3, Model:ReLU GCN(148->32) + ReLU GCN(32->32) + MeanPool with Jumping Knowledge\n",
      "[0.9047619  0.85714286 0.88095238 0.85714286 0.88095238 0.85714286\n",
      " 0.85714286 0.85714286 0.88095238 0.85714286 0.85714286 0.85714286\n",
      " 0.85714286 0.88095238 0.85714286 0.88095238 0.88095238 0.83333333\n",
      " 0.9047619  0.83333333]\n",
      "Accuracy : 0.8667 ± 0.0190\n",
      "F1 Score : 0.8354 ± 0.0223\n"
     ]
    }
   ],
   "source": [
    "print(\"7NN Discrepancy Detector for Smooth1.3, Model:ReLU GCN(148->32) + ReLU GCN(32->32) + MeanPool with Jumping Knowledge\")\n",
    "print(results)\n",
    "print(f'Accuracy : {np.mean(results):.4f} ± {np.std(results):.4f}')\n",
    "print(f'F1 Score : {np.mean(f1_arr):.4f} ± {np.std(f1_arr):.4f}')"
   ]
  },
  {
   "cell_type": "code",
   "execution_count": 4,
   "metadata": {},
   "outputs": [
    {
     "name": "stdout",
     "output_type": "stream",
     "text": [
      "7NN Discrepancy Detector for Smooth1.3, Model:ReLU GCN(148->32) + ReLU GCN(32->32) + MeanPool\n",
      "[0.85714286 0.88095238 0.88095238 0.85714286 0.88095238 0.85714286\n",
      " 0.88095238 0.85714286 0.83333333 0.85714286 0.83333333 0.85714286\n",
      " 0.88095238 0.88095238 0.88095238 0.83333333 0.85714286 0.85714286\n",
      " 0.9047619  0.88095238]\n",
      "Accuracy : 0.8655 ± 0.0189\n",
      "F1 Score : 0.8323 ± 0.0215\n"
     ]
    }
   ],
   "source": [
    "print(\"7NN Discrepancy Detector for Smooth1.3, Model:ReLU GCN(148->32) + ReLU GCN(32->32) + MeanPool\")\n",
    "print(results)\n",
    "print(f'Accuracy : {np.mean(results):.4f} ± {np.std(results):.4f}')\n",
    "print(f'F1 Score : {np.mean(f1_arr):.4f} ± {np.std(f1_arr):.4f}')"
   ]
  },
  {
   "cell_type": "code",
   "execution_count": 28,
   "metadata": {},
   "outputs": [
    {
     "name": "stdout",
     "output_type": "stream",
     "text": [
      "7NN Discrepancy Detector for Smooth1.3, Model:ReLU GCN(148->32) + ReLU GCN(32->32) + MeanPool\n",
      "[0.85714286 0.88095238 0.85714286 0.85714286 0.85714286 0.85714286\n",
      " 0.88095238 0.83333333 0.88095238 0.9047619  0.88095238 0.88095238\n",
      " 0.88095238 0.85714286 0.88095238 0.88095238 0.88095238 0.85714286\n",
      " 0.88095238 0.88095238]\n",
      "Accuracy : 0.8714 ± 0.0158\n",
      "F1 Score : 0.8362 ± 0.0210\n"
     ]
    }
   ],
   "source": [
    "print(\"7NN Discrepancy Detector for Smooth1.3, Model:ReLU GCN(148->32) + ReLU GCN(32->32) + MeanPool\")\n",
    "print(results)\n",
    "print(f'Accuracy : {np.mean(results):.4f} ± {np.std(results):.4f}')\n",
    "print(f'F1 Score : {np.mean(f1_arr):.4f} ± {np.std(f1_arr):.4f}')"
   ]
  },
  {
   "cell_type": "code",
   "execution_count": 32,
   "metadata": {},
   "outputs": [
    {
     "name": "stdout",
     "output_type": "stream",
     "text": [
      "7NN Discrepancy Detector for Smooth1.3, Model:ReLU GCN(148->32) + ReLU GCN(32->32) + MeanPool (0.2var and 32scalingfactor)\n",
      "[0.85714286 0.88095238 0.88095238 0.88095238 0.88095238 0.88095238\n",
      " 0.85714286 0.88095238 0.88095238 0.88095238 0.85714286 0.88095238\n",
      " 0.88095238 0.88095238 0.9047619  0.88095238 0.88095238 0.88095238\n",
      " 0.83333333 0.88095238]\n",
      "Accuracy : 0.8762 ± 0.0143\n",
      "F1 Score : 0.8432 ± 0.0195\n"
     ]
    }
   ],
   "source": [
    "print(\"7NN Discrepancy Detector for Smooth1.3, Model:ReLU GCN(148->32) + ReLU GCN(32->32) + MeanPool (0.2var and 32scalingfactor)\")\n",
    "print(results)\n",
    "print(f'Accuracy : {np.mean(results):.4f} ± {np.std(results):.4f}')\n",
    "print(f'F1 Score : {np.mean(f1_arr):.4f} ± {np.std(f1_arr):.4f}')"
   ]
  },
  {
   "cell_type": "code",
   "execution_count": 37,
   "metadata": {},
   "outputs": [
    {
     "name": "stdout",
     "output_type": "stream",
     "text": [
      "7NN Discrepancy Detector for Smooth1.3, Model:ReLU GCN(148->64) + ReLU GCN(64->64) + MeanPool (0.2var,32sf)\n",
      "[0.88095238 0.85714286 0.85714286 0.85714286 0.80952381 0.88095238\n",
      " 0.88095238 0.85714286 0.88095238 0.88095238 0.88095238 0.88095238\n",
      " 0.85714286 0.88095238 0.85714286 0.85714286 0.85714286 0.88095238\n",
      " 0.88095238 0.85714286]\n",
      "Accuracy : 0.8667 ± 0.0175\n",
      "F1 Score : 0.8337 ± 0.0177\n"
     ]
    }
   ],
   "source": [
    "print(\"7NN Discrepancy Detector for Smooth1.3, Model:ReLU GCN(148->64) + ReLU GCN(64->64) + MeanPool (0.2var,32sf)\")\n",
    "print(results)\n",
    "print(f'Accuracy : {np.mean(results):.4f} ± {np.std(results):.4f}')\n",
    "print(f'F1 Score : {np.mean(f1_arr):.4f} ± {np.std(f1_arr):.4f}')"
   ]
  },
  {
   "cell_type": "code",
   "execution_count": 4,
   "metadata": {},
   "outputs": [
    {
     "name": "stdout",
     "output_type": "stream",
     "text": [
      "7NN Discrepancy Detector for Smooth1.3, Model:ReLU GCN(148->32) + ReLU GCN(32->32) + MeanPool, Mean Loss(AD-SCI)\n",
      "[0.80952381 0.80952381 0.78571429 0.83333333 0.85714286 0.78571429\n",
      " 0.80952381 0.80952381 0.80952381 0.80952381 0.80952381 0.78571429\n",
      " 0.80952381 0.83333333 0.85714286 0.78571429 0.83333333 0.80952381\n",
      " 0.83333333 0.80952381]\n",
      "Accuracy : 0.8143 ± 0.0208\n",
      "F1 Score : 0.7722 ± 0.0281\n"
     ]
    }
   ],
   "source": [
    "print(\"7NN Discrepancy Detector for Smooth1.3, Model:ReLU GCN(148->32) + ReLU GCN(32->32) + MeanPool, Mean Loss(AD-SCI)\")\n",
    "print(results)\n",
    "print(f'Accuracy : {np.mean(results):.4f} ± {np.std(results):.4f}')\n",
    "print(f'F1 Score : {np.mean(f1_arr):.4f} ± {np.std(f1_arr):.4f}')"
   ]
  },
  {
   "cell_type": "code",
   "execution_count": 12,
   "metadata": {},
   "outputs": [
    {
     "name": "stdout",
     "output_type": "stream",
     "text": [
      "7NN Discrepancy Detector for Smooth1.3, Model:ReLU GCN(148->32) + ReLU GCN(32->32) + MeanPool (AD-MCI)\n",
      "[0.8125 0.8125]\n",
      "Accuracy : 0.8125 ± 0.0000\n",
      "F1 Score : 0.6000 ± 0.0000\n"
     ]
    }
   ],
   "source": [
    "print(\"7NN Discrepancy Detector for Smooth1.3, Model:ReLU GCN(148->32) + ReLU GCN(32->32) + MeanPool (AD-MCI)\")\n",
    "print(results)\n",
    "print(f'Accuracy : {np.mean(results):.4f} ± {np.std(results):.4f}')\n",
    "print(f'F1 Score : {np.mean(f1_arr):.4f} ± {np.std(f1_arr):.4f}')"
   ]
  },
  {
   "cell_type": "code",
   "execution_count": 79,
   "metadata": {},
   "outputs": [
    {
     "name": "stdout",
     "output_type": "stream",
     "text": [
      "7NN Discrepancy Detector for Smooth1.3, Model:ReLU GCN(148->32) + ReLU GCN(32->32) + batchsize14betterTraining\n",
      "[0.83333333 0.80952381 0.85714286 0.88095238 0.85714286 0.83333333\n",
      " 0.88095238 0.88095238 0.83333333 0.85714286 0.85714286 0.85714286\n",
      " 0.78571429 0.80952381 0.85714286 0.80952381 0.85714286 0.83333333\n",
      " 0.85714286 0.88095238]\n",
      "Accuracy : 0.8464 ± 0.0266\n",
      "F1 Score : 0.8140 ± 0.0266\n"
     ]
    }
   ],
   "source": [
    "print(\"7NN Discrepancy Detector for Smooth1.3, Model:ReLU GCN(148->32) + ReLU GCN(32->32) + batchsize14betterTraining\")\n",
    "print(results)\n",
    "print(f'Accuracy : {np.mean(results):.4f} ± {np.std(results):.4f}')\n",
    "print(f'F1 Score : {np.mean(f1_arr):.4f} ± {np.std(f1_arr):.4f}')"
   ]
  },
  {
   "cell_type": "code",
   "execution_count": 83,
   "metadata": {},
   "outputs": [
    {
     "name": "stdout",
     "output_type": "stream",
     "text": [
      "7NN Discrepancy Detector for Smooth1.3, Model:ReLU GCN(148->32) + ReLU GCN(32->32) + batchsize14epoch150\n",
      "[0.80952381 0.80952381 0.83333333 0.76190476 0.78571429 0.78571429\n",
      " 0.78571429 0.83333333 0.83333333 0.83333333 0.80952381 0.80952381\n",
      " 0.85714286 0.80952381 0.80952381 0.80952381 0.85714286 0.80952381\n",
      " 0.76190476 0.80952381]\n",
      "Accuracy : 0.8107 ± 0.0255\n",
      "F1 Score : 0.7697 ± 0.0317\n"
     ]
    }
   ],
   "source": [
    "print(\"7NN Discrepancy Detector for Smooth1.3, Model:ReLU GCN(148->32) + ReLU GCN(32->32) + batchsize14epoch150\")\n",
    "print(results)\n",
    "print(f'Accuracy : {np.mean(results):.4f} ± {np.std(results):.4f}')\n",
    "print(f'F1 Score : {np.mean(f1_arr):.4f} ± {np.std(f1_arr):.4f}')"
   ]
  },
  {
   "cell_type": "code",
   "execution_count": 87,
   "metadata": {},
   "outputs": [
    {
     "name": "stdout",
     "output_type": "stream",
     "text": [
      "7NN Discrepancy Detector for Smooth1.3, Model:ReLU GCN(148->32) + ReLU GCN(32->32) + batchsize14sf16\n",
      "[0.83333333 0.83333333 0.88095238 0.83333333 0.88095238 0.83333333\n",
      " 0.88095238 0.85714286 0.85714286 0.83333333 0.85714286 0.85714286\n",
      " 0.88095238 0.83333333 0.85714286 0.85714286 0.83333333 0.80952381\n",
      " 0.85714286 0.83333333]\n",
      "Accuracy : 0.8500 ± 0.0201\n",
      "F1 Score : 0.8177 ± 0.0212\n"
     ]
    }
   ],
   "source": [
    "print(\"7NN Discrepancy Detector for Smooth1.3, Model:ReLU GCN(148->32) + ReLU GCN(32->32) + batchsize14sf16\")\n",
    "print(results)\n",
    "print(f'Accuracy : {np.mean(results):.4f} ± {np.std(results):.4f}')\n",
    "print(f'F1 Score : {np.mean(f1_arr):.4f} ± {np.std(f1_arr):.4f}')"
   ]
  },
  {
   "cell_type": "code",
   "execution_count": 102,
   "metadata": {},
   "outputs": [
    {
     "name": "stdout",
     "output_type": "stream",
     "text": [
      "7NN Discrepancy Detector for Smooth1.3, Model:ReLU GCN(148->32) + GCN(32->32) + sf8margin5\n",
      "[0.85714286 0.85714286 0.85714286 0.88095238 0.85714286 0.83333333\n",
      " 0.83333333 0.85714286 0.85714286 0.85714286 0.85714286 0.85714286\n",
      " 0.85714286 0.80952381 0.88095238 0.88095238 0.9047619  0.83333333\n",
      " 0.88095238 0.85714286]\n",
      "Accuracy : 0.8583 ± 0.0206\n",
      "F1 Score : 0.8266 ± 0.0225\n"
     ]
    }
   ],
   "source": [
    "print(\"7NN Discrepancy Detector for Smooth1.3, Model:ReLU GCN(148->32) + GCN(32->32) + sf8margin5\")\n",
    "print(results)\n",
    "print(f'Accuracy : {np.mean(results):.4f} ± {np.std(results):.4f}')\n",
    "print(f'F1 Score : {np.mean(f1_arr):.4f} ± {np.std(f1_arr):.4f}')"
   ]
  },
  {
   "cell_type": "code",
   "execution_count": 4,
   "metadata": {},
   "outputs": [
    {
     "name": "stdout",
     "output_type": "stream",
     "text": [
      "7NN Discrepancy Detector for Smooth1.3, Model:ReLU GCN(148->32) + GCN(32->32) + sf8margin3var0.2\n",
      "[0.83333333 0.80952381 0.85714286 0.83333333 0.83333333 0.85714286\n",
      " 0.83333333 0.83333333 0.88095238 0.85714286 0.83333333 0.85714286\n",
      " 0.85714286 0.83333333 0.88095238 0.85714286 0.85714286 0.83333333\n",
      " 0.83333333 0.83333333]\n",
      "Accuracy : 0.8452 ± 0.0177\n",
      "F1 Score : 0.8114 ± 0.0224\n"
     ]
    }
   ],
   "source": [
    "print(\"7NN Discrepancy Detector for Smooth1.3, Model:ReLU GCN(148->32) + GCN(32->32) + sf8margin3var0.2\")\n",
    "print(results)\n",
    "print(f'Accuracy : {np.mean(results):.4f} ± {np.std(results):.4f}')\n",
    "print(f'F1 Score : {np.mean(f1_arr):.4f} ± {np.std(f1_arr):.4f}')"
   ]
  },
  {
   "cell_type": "code",
   "execution_count": 12,
   "metadata": {},
   "outputs": [
    {
     "name": "stdout",
     "output_type": "stream",
     "text": [
      "7NN Discrepancy Detector for Smooth1.3, Model:ReLU GCN(148->32) + GCN(32->32) \n",
      "[0.85714286 0.83333333 0.85714286 0.88095238 0.85714286 0.85714286\n",
      " 0.85714286 0.85714286 0.83333333 0.85714286 0.9047619  0.88095238\n",
      " 0.83333333 0.83333333 0.83333333 0.85714286 0.83333333 0.85714286\n",
      " 0.85714286 0.83333333]\n",
      "Accuracy : 0.8536 ± 0.0189\n",
      "F1 Score : 0.8198 ± 0.0235\n"
     ]
    }
   ],
   "source": [
    "print(\"7NN Discrepancy Detector for Smooth1.3, Model:ReLU GCN(148->32) + GCN(32->32) \")\n",
    "print(results)\n",
    "print(f'Accuracy : {np.mean(results):.4f} ± {np.std(results):.4f}')\n",
    "print(f'F1 Score : {np.mean(f1_arr):.4f} ± {np.std(f1_arr):.4f}')"
   ]
  },
  {
   "cell_type": "code",
   "execution_count": 16,
   "metadata": {},
   "outputs": [
    {
     "name": "stdout",
     "output_type": "stream",
     "text": [
      "7NN Discrepancy Detector for Smooth1.3, Model:ReLU GCN(148->32) + ReLU GCN(32->32) margin3\n",
      "[0.80952381 0.85714286 0.85714286 0.85714286 0.88095238 0.83333333\n",
      " 0.83333333 0.88095238 0.85714286 0.85714286 0.83333333 0.88095238\n",
      " 0.88095238 0.85714286 0.85714286 0.88095238 0.85714286 0.9047619\n",
      " 0.88095238 0.88095238]\n",
      "Accuracy : 0.8619 ± 0.0221\n",
      "F1 Score : 0.8292 ± 0.0249\n"
     ]
    }
   ],
   "source": [
    "print(\"7NN Discrepancy Detector for Smooth1.3, Model:ReLU GCN(148->32) + ReLU GCN(32->32) margin3\")\n",
    "print(results)\n",
    "print(f'Accuracy : {np.mean(results):.4f} ± {np.std(results):.4f}')\n",
    "print(f'F1 Score : {np.mean(f1_arr):.4f} ± {np.std(f1_arr):.4f}')"
   ]
  },
  {
   "cell_type": "code",
   "execution_count": 42,
   "metadata": {},
   "outputs": [
    {
     "name": "stdout",
     "output_type": "stream",
     "text": [
      "7NN Discrepancy Detector for Smooth1.3, Model:ReLU GIN(148->32) + ReLU GIN(32->32) margin0.5\n",
      "[0.69047619 0.73809524 0.66666667 0.76190476 0.66666667 0.73809524\n",
      " 0.76190476 0.71428571 0.66666667 0.71428571 0.76190476 0.73809524\n",
      " 0.78571429 0.80952381 0.78571429 0.78571429 0.71428571 0.76190476\n",
      " 0.76190476 0.80952381]\n",
      "Accuracy : 0.7417 ± 0.0441\n",
      "F1 Score : 0.7152 ± 0.0442\n"
     ]
    }
   ],
   "source": [
    "print(\"7NN Discrepancy Detector for Smooth1.3, Model:ReLU GIN(148->32) + ReLU GIN(32->32) margin0.5\")\n",
    "print(results)\n",
    "print(f'Accuracy : {np.mean(results):.4f} ± {np.std(results):.4f}')\n",
    "print(f'F1 Score : {np.mean(f1_arr):.4f} ± {np.std(f1_arr):.4f}')"
   ]
  },
  {
   "cell_type": "code",
   "execution_count": 4,
   "metadata": {},
   "outputs": [
    {
     "name": "stdout",
     "output_type": "stream",
     "text": [
      "7NN Discrepancy Detector for Smooth1.3, Model:ReLU GCN(148->32) + ReLU GCN(32->32) margin0.5 RANDOM SNET\n",
      "[0.76190476 0.73809524 0.78571429 0.73809524 0.76190476 0.76190476\n",
      " 0.76190476 0.80952381 0.76190476 0.83333333 0.71428571 0.71428571\n",
      " 0.78571429 0.76190476 0.80952381 0.78571429 0.78571429 0.80952381\n",
      " 0.78571429 0.76190476]\n",
      "Accuracy : 0.7714 ± 0.0305\n",
      "F1 Score : 0.7411 ± 0.0293\n"
     ]
    }
   ],
   "source": [
    "print(\"7NN Discrepancy Detector for Smooth1.3, Model:ReLU GCN(148->32) + ReLU GCN(32->32) margin0.5 RANDOM SNET\")\n",
    "print(results)\n",
    "print(f'Accuracy : {np.mean(results):.4f} ± {np.std(results):.4f}')\n",
    "print(f'F1 Score : {np.mean(f1_arr):.4f} ± {np.std(f1_arr):.4f}')"
   ]
  },
  {
   "cell_type": "code",
   "execution_count": 24,
   "metadata": {},
   "outputs": [
    {
     "name": "stdout",
     "output_type": "stream",
     "text": [
      "7NN Discrepancy Detector for Smooth1.3, Model:ReLU GCN(148->32) + ReLU GCN(32->32) margin0.5 RANDOM LNET\n",
      "[0.80952381 0.78571429 0.76190476 0.78571429 0.76190476 0.76190476\n",
      " 0.78571429 0.76190476 0.78571429 0.78571429 0.78571429 0.80952381\n",
      " 0.76190476 0.76190476 0.80952381 0.80952381 0.78571429 0.78571429\n",
      " 0.76190476 0.83333333]\n",
      "Accuracy : 0.7845 ± 0.0206\n",
      "F1 Score : 0.7395 ± 0.0309\n"
     ]
    }
   ],
   "source": [
    "print(\"7NN Discrepancy Detector for Smooth1.3, Model:ReLU GCN(148->32) + ReLU GCN(32->32) margin0.5 RANDOM LNET\")\n",
    "print(results)\n",
    "print(f'Accuracy : {np.mean(results):.4f} ± {np.std(results):.4f}')\n",
    "print(f'F1 Score : {np.mean(f1_arr):.4f} ± {np.std(f1_arr):.4f}')"
   ]
  }
 ],
 "metadata": {
  "kernelspec": {
   "display_name": "Python 3",
   "language": "python",
   "name": "python3"
  },
  "language_info": {
   "codemirror_mode": {
    "name": "ipython",
    "version": 3
   },
   "file_extension": ".py",
   "mimetype": "text/x-python",
   "name": "python",
   "nbconvert_exporter": "python",
   "pygments_lexer": "ipython3",
   "version": "3.6.5"
  }
 },
 "nbformat": 4,
 "nbformat_minor": 2
}
